{
 "cells": [
  {
   "cell_type": "markdown",
   "id": "4b43a45dee6e6ee4",
   "metadata": {
    "id": "4b43a45dee6e6ee4"
   },
   "source": [
    "# Реализации базы знаний для экспертной системы дифференциальной диагностики офтальмологических заболеваний"
   ]
  },
  {
   "cell_type": "markdown",
   "id": "113263104c4572f8",
   "metadata": {
    "id": "113263104c4572f8"
   },
   "source": "## 1. Источники знаний о предметной области"
  },
  {
   "metadata": {},
   "cell_type": "markdown",
   "source": [
    "1. Киселёв, А. Ю. Дифференциальная диагностика воспалительных заболеваний глаз [Текст] / А. Ю. Киселёв // Вестник офтальмологии. — 2022. — Т. 138, № 4. — С. 45–52.\n",
    "\n",
    "2. Бойко, Е. В. Алгоритмы диагностики заболеваний сетчатки [Текст] / Е. В. Бойко // Офтальмология. — 2021. — Т. 18, № 2. — С. 33–40.\n",
    "\n",
    "3. Егоров, Е. А. Дифференциальная диагностика помутнений роговицы [Текст] / Е. А. Егоров // Офтальмохирургия. — 2020. — № 3. — С. 18–26.\n",
    "\n",
    "4. Шамшинова, А. М. Возрастные изменения зрительного анализатора [Текст] / А. М. Шамшинова // Вестник офтальмологии. — 2019. — № 6. — С. 7–15.\n",
    "\n",
    "5. Кацнельсон, Л. А. Современные подходы к диагностике глаукомы [Текст] / Л. А. Кацнельсон // Офтальмология. — 2023. — Т. 20, № 1. — С. 12–20.\n",
    "\n",
    "6. Михайлов, А. П. Воспалительные заболевания переднего отдела глаза у детей [Текст] / А. П. Михайлов // Российская детская офтальмология. — 2021. — № 2. — С. 45–51.\n",
    "\n",
    "7. Фёдоров, С. Н. Оперативные методы лечения катаракты [Текст] / С. Н. Фёдоров // Офтальмохирургия. — 2018. — № 5. — С. 3–10.\n",
    "\n",
    "8. Ченцов, В. В. Блефарит: диагностика и лечение [Текст] / В. В. Ченцов // Вестник офтальмологии. — 2020. — № 2. — С. 41–48.\n",
    "\n",
    "9. Селиванов, П. А. Роговичные дистрофии: классификация и подходы к терапии [Текст] / П. А. Селиванов // Офтальмология. — 2022. — № 5. — С. 63–71.\n",
    "\n",
    "10. Гордеев, Д. В. Нейроофтальмологические синдромы [Текст] / Д. В. Гордеев // Вестник офтальмологии. — 2021. — № 3. — С. 55–62.\n",
    "\n",
    "11. Иванова, И. Н. Поражения сетчатки при системных заболеваниях [Текст] / И. Н. Иванова // Офтальмология. — 2020. — № 1. — С. 47–56.\n",
    "\n",
    "12. Чухраева, Н. А. Современные представления о кератитах [Текст] / Н. А. Чухраева // Офтальмохирургия. — 2023. — № 4. — С. 9–18.\n",
    "\n",
    "13. Орлова, Е. П. Особенности офтальмопатологии у пожилых пациентов [Текст] / Е. П. Орлова // Вестник офтальмологии. — 2019. — № 5. — С. 22–28.\n",
    "\n",
    "14. Громов, С. А. Диагностика и лечение увеитов [Текст] / С. А. Громов // Офтальмология. — 2021. — № 6. — С. 30–38.\n",
    "\n",
    "15. Петрова, Л. В. Поражения глаз при вирусных инфекциях [Текст] / Л. В. Петрова // Российская детская офтальмология. — 2022. — № 1. — С. 58–66.\n",
    "\n",
    "16. Сидоров, Ю. А. Компьютерное моделирование офтальмологических диагнозов [Текст] / Ю. А. Сидоров // Офтальмохирургия. — 2020. — № 2. — С. 49–55.\n",
    "\n",
    "17. Зорин, А. В. Дифференциальная диагностика катаракты и помутнений стекловидного тела [Текст] / А. В. Зорин // Вестник офтальмологии. — 2023. — № 1. — С. 27–35.\n",
    "\n",
    "18. World Health Organization. International Classification of Diseases, 11th Revision (ICD-11) [Электронный ресурс] — URL: https://icd.who.int/en\n",
    " (Дата обращения: 09.10.2025).\n",
    "\n",
    "19. American Academy of Ophthalmology. Preferred Practice Pattern® Guidelines [Электронный ресурс] — URL: https://www.aao.org/education/preferred-practice-patterns\n",
    " (Дата обращения: 09.10.2025).\n",
    "\n",
    "20. National Eye Institute (NEI). Eye Conditions and Diseases [Электронный ресурс] — URL: https://www.nei.nih.gov/learn-about-eye-health/eye-conditions-and-diseases\n",
    " (Дата обращения: 09.10.2025)."
   ],
   "id": "5203736d409d28ff"
  },
  {
   "cell_type": "markdown",
   "id": "27ba9e3d9da4d001",
   "metadata": {
    "id": "27ba9e3d9da4d001"
   },
   "source": "## 2. Визуализация базы знаний"
  },
  {
   "cell_type": "markdown",
   "id": "d0125d50d4c1e311",
   "metadata": {},
   "source": "#### 2.1. Установка и подключение python-библиотек"
  },
  {
   "metadata": {},
   "cell_type": "markdown",
   "source": "Утановим необходимые python-библиотеки, для извлечения даннных из графовой СУБД, и их визуализации интерактивной форме:",
   "id": "8031117081350c9a"
  },
  {
   "cell_type": "code",
   "id": "783f24aea994845e",
   "metadata": {
    "colab": {
     "base_uri": "https://localhost:8080/"
    },
    "id": "783f24aea994845e",
    "outputId": "0c6d932d-b548-4d22-d0c9-5bb05c51db23",
    "ExecuteTime": {
     "end_time": "2025-10-10T06:33:46.655910Z",
     "start_time": "2025-10-10T06:33:45.525765Z"
    }
   },
   "source": "!pip install neo4j networkx python-dotenv pyvis",
   "outputs": [
    {
     "name": "stdout",
     "output_type": "stream",
     "text": [
      "Requirement already satisfied: neo4j in /home/anton/PycharmProjects/expert-system-for-diagnosing-ophthalmological-diseases/.venv/lib/python3.12/site-packages (6.0.2)\r\n",
      "Requirement already satisfied: networkx in /home/anton/PycharmProjects/expert-system-for-diagnosing-ophthalmological-diseases/.venv/lib/python3.12/site-packages (3.5)\r\n",
      "Requirement already satisfied: python-dotenv in /home/anton/PycharmProjects/expert-system-for-diagnosing-ophthalmological-diseases/.venv/lib/python3.12/site-packages (1.1.1)\r\n",
      "Requirement already satisfied: pyvis in /home/anton/PycharmProjects/expert-system-for-diagnosing-ophthalmological-diseases/.venv/lib/python3.12/site-packages (0.3.2)\r\n",
      "Requirement already satisfied: pytz in /home/anton/PycharmProjects/expert-system-for-diagnosing-ophthalmological-diseases/.venv/lib/python3.12/site-packages (from neo4j) (2025.2)\r\n",
      "Requirement already satisfied: ipython>=5.3.0 in /home/anton/PycharmProjects/expert-system-for-diagnosing-ophthalmological-diseases/.venv/lib/python3.12/site-packages (from pyvis) (9.6.0)\r\n",
      "Requirement already satisfied: jinja2>=2.9.6 in /home/anton/PycharmProjects/expert-system-for-diagnosing-ophthalmological-diseases/.venv/lib/python3.12/site-packages (from pyvis) (3.1.6)\r\n",
      "Requirement already satisfied: jsonpickle>=1.4.1 in /home/anton/PycharmProjects/expert-system-for-diagnosing-ophthalmological-diseases/.venv/lib/python3.12/site-packages (from pyvis) (4.1.1)\r\n",
      "Requirement already satisfied: decorator in /home/anton/PycharmProjects/expert-system-for-diagnosing-ophthalmological-diseases/.venv/lib/python3.12/site-packages (from ipython>=5.3.0->pyvis) (5.2.1)\r\n",
      "Requirement already satisfied: ipython-pygments-lexers in /home/anton/PycharmProjects/expert-system-for-diagnosing-ophthalmological-diseases/.venv/lib/python3.12/site-packages (from ipython>=5.3.0->pyvis) (1.1.1)\r\n",
      "Requirement already satisfied: jedi>=0.16 in /home/anton/PycharmProjects/expert-system-for-diagnosing-ophthalmological-diseases/.venv/lib/python3.12/site-packages (from ipython>=5.3.0->pyvis) (0.19.2)\r\n",
      "Requirement already satisfied: matplotlib-inline in /home/anton/PycharmProjects/expert-system-for-diagnosing-ophthalmological-diseases/.venv/lib/python3.12/site-packages (from ipython>=5.3.0->pyvis) (0.1.7)\r\n",
      "Requirement already satisfied: pexpect>4.3 in /home/anton/PycharmProjects/expert-system-for-diagnosing-ophthalmological-diseases/.venv/lib/python3.12/site-packages (from ipython>=5.3.0->pyvis) (4.9.0)\r\n",
      "Requirement already satisfied: prompt_toolkit<3.1.0,>=3.0.41 in /home/anton/PycharmProjects/expert-system-for-diagnosing-ophthalmological-diseases/.venv/lib/python3.12/site-packages (from ipython>=5.3.0->pyvis) (3.0.52)\r\n",
      "Requirement already satisfied: pygments>=2.4.0 in /home/anton/PycharmProjects/expert-system-for-diagnosing-ophthalmological-diseases/.venv/lib/python3.12/site-packages (from ipython>=5.3.0->pyvis) (2.19.2)\r\n",
      "Requirement already satisfied: stack_data in /home/anton/PycharmProjects/expert-system-for-diagnosing-ophthalmological-diseases/.venv/lib/python3.12/site-packages (from ipython>=5.3.0->pyvis) (0.6.3)\r\n",
      "Requirement already satisfied: traitlets>=5.13.0 in /home/anton/PycharmProjects/expert-system-for-diagnosing-ophthalmological-diseases/.venv/lib/python3.12/site-packages (from ipython>=5.3.0->pyvis) (5.14.3)\r\n",
      "Requirement already satisfied: MarkupSafe>=2.0 in /home/anton/PycharmProjects/expert-system-for-diagnosing-ophthalmological-diseases/.venv/lib64/python3.12/site-packages (from jinja2>=2.9.6->pyvis) (3.0.3)\r\n",
      "Requirement already satisfied: parso<0.9.0,>=0.8.4 in /home/anton/PycharmProjects/expert-system-for-diagnosing-ophthalmological-diseases/.venv/lib/python3.12/site-packages (from jedi>=0.16->ipython>=5.3.0->pyvis) (0.8.5)\r\n",
      "Requirement already satisfied: ptyprocess>=0.5 in /home/anton/PycharmProjects/expert-system-for-diagnosing-ophthalmological-diseases/.venv/lib/python3.12/site-packages (from pexpect>4.3->ipython>=5.3.0->pyvis) (0.7.0)\r\n",
      "Requirement already satisfied: wcwidth in /home/anton/PycharmProjects/expert-system-for-diagnosing-ophthalmological-diseases/.venv/lib/python3.12/site-packages (from prompt_toolkit<3.1.0,>=3.0.41->ipython>=5.3.0->pyvis) (0.2.14)\r\n",
      "Requirement already satisfied: executing>=1.2.0 in /home/anton/PycharmProjects/expert-system-for-diagnosing-ophthalmological-diseases/.venv/lib/python3.12/site-packages (from stack_data->ipython>=5.3.0->pyvis) (2.2.1)\r\n",
      "Requirement already satisfied: asttokens>=2.1.0 in /home/anton/PycharmProjects/expert-system-for-diagnosing-ophthalmological-diseases/.venv/lib/python3.12/site-packages (from stack_data->ipython>=5.3.0->pyvis) (3.0.0)\r\n",
      "Requirement already satisfied: pure-eval in /home/anton/PycharmProjects/expert-system-for-diagnosing-ophthalmological-diseases/.venv/lib/python3.12/site-packages (from stack_data->ipython>=5.3.0->pyvis) (0.2.3)\r\n",
      "\r\n",
      "\u001B[1m[\u001B[0m\u001B[34;49mnotice\u001B[0m\u001B[1;39;49m]\u001B[0m\u001B[39;49m A new release of pip is available: \u001B[0m\u001B[31;49m24.3.1\u001B[0m\u001B[39;49m -> \u001B[0m\u001B[32;49m25.2\u001B[0m\r\n",
      "\u001B[1m[\u001B[0m\u001B[34;49mnotice\u001B[0m\u001B[1;39;49m]\u001B[0m\u001B[39;49m To update, run: \u001B[0m\u001B[32;49mpip install --upgrade pip\u001B[0m\r\n"
     ]
    }
   ],
   "execution_count": 12
  },
  {
   "metadata": {},
   "cell_type": "markdown",
   "source": "Подключим нужные библиотеки:",
   "id": "aaee1be9be17b796"
  },
  {
   "cell_type": "code",
   "id": "a393934b1376476d",
   "metadata": {
    "id": "a393934b1376476d",
    "ExecuteTime": {
     "end_time": "2025-10-10T06:33:48.271087Z",
     "start_time": "2025-10-10T06:33:48.267547Z"
    }
   },
   "source": [
    "from neo4j import GraphDatabase\n",
    "import networkx as nx\n",
    "from pyvis.network import Network\n",
    "import dotenv\n",
    "import os"
   ],
   "outputs": [],
   "execution_count": 13
  },
  {
   "cell_type": "markdown",
   "id": "247e79af1d292283",
   "metadata": {},
   "source": "### 2.2. Загрузка данных из neo4j"
  },
  {
   "metadata": {},
   "cell_type": "markdown",
   "source": "Прочитаем из переменных доступа, параметра для подключения к субд:",
   "id": "77d6f3cb34b3b00a"
  },
  {
   "cell_type": "code",
   "id": "1419ff903ab33791",
   "metadata": {
    "id": "1419ff903ab33791",
    "ExecuteTime": {
     "end_time": "2025-10-10T06:33:49.764227Z",
     "start_time": "2025-10-10T06:33:49.760208Z"
    }
   },
   "source": [
    "dotenv.load_dotenv()\n",
    "NEO4J_URI = os.environ.get(\"NEO4J_URI\", \"bolt://localhost:7687\")\n",
    "NEO4J_USER = os.environ.get(\"NEO4J_USER\", \"neo4j\")\n",
    "NEO4J_PASSWORD = os.environ.get(\"NEO4J_PASSWORD\", \"qwerty12345\")"
   ],
   "outputs": [],
   "execution_count": 14
  },
  {
   "metadata": {},
   "cell_type": "markdown",
   "source": "Подключимся к базе данных, и считаем данные графа принятия решений:",
   "id": "4a72924a39ad411"
  },
  {
   "cell_type": "code",
   "id": "55d6202eb57921ab",
   "metadata": {
    "colab": {
     "base_uri": "https://localhost:8080/",
     "height": 550
    },
    "id": "55d6202eb57921ab",
    "outputId": "b5c54bc2-9dab-496c-c9e1-df86ed2e0e43",
    "ExecuteTime": {
     "end_time": "2025-10-10T06:33:51.195935Z",
     "start_time": "2025-10-10T06:33:51.117314Z"
    }
   },
   "source": [
    "driver = GraphDatabase.driver(NEO4J_URI, auth=(NEO4J_USER, NEO4J_PASSWORD))\n",
    "query = \"MATCH (a)-[r]->(b) RETURN a, b, r\"\n",
    "with driver.session() as session:\n",
    "    records = session.execute_read(lambda tx: list(tx.run(query)))\n",
    "driver.close()"
   ],
   "outputs": [],
   "execution_count": 15
  },
  {
   "metadata": {},
   "cell_type": "markdown",
   "source": [
    "Произведем обработку данных. При обработке данных, происходит: очистка данных от мета-информации, которая добавляется СУБД, и преобразование структур данных из библиотек к базовым типами python,\n",
    "происходит добавления мета информации, которая понадобится при визуализации."
   ],
   "id": "f3ee5fdcf063a468"
  },
  {
   "metadata": {
    "ExecuteTime": {
     "end_time": "2025-10-10T06:33:52.677942Z",
     "start_time": "2025-10-10T06:33:52.672542Z"
    }
   },
   "cell_type": "code",
   "source": [
    "# Преобразование объектов созданных библиотекой драйвера в словари python\n",
    "data = []\n",
    "for rec in records:\n",
    "    a = rec[\"a\"]\n",
    "    b = rec[\"b\"]\n",
    "    r = rec[\"r\"]\n",
    "    data.append({\n",
    "        \"a\": {\n",
    "            \"identity\": a.element_id,\n",
    "            \"labels\": list(a.labels),\n",
    "            \"properties\": dict(a)\n",
    "        },\n",
    "        \"b\": {\n",
    "            \"identity\": b.element_id,\n",
    "            \"labels\": list(b.labels),\n",
    "            \"properties\": dict(b)\n",
    "        },\n",
    "        \"r\": {\n",
    "            \"identity\": r.element_id,\n",
    "            \"type\": 'Да' if r.type == 'YES' else 'Нет',\n",
    "            \"color\": 'green' if r.type =='YES' else 'red',\n",
    "            \"properties\": dict(r)\n",
    "        }\n",
    "    })"
   ],
   "id": "9d0ae48f2fea6b9a",
   "outputs": [],
   "execution_count": 16
  },
  {
   "cell_type": "markdown",
   "id": "5df05c7a1ff2fb99",
   "metadata": {},
   "source": "### 2.3. Создание объекта графа"
  },
  {
   "metadata": {},
   "cell_type": "markdown",
   "source": "Построим объект графа для дальнейшего вывода. Для этого воспользуемся библиотекой [networkx](https://networkx.org/)",
   "id": "df198c32e8075f8"
  },
  {
   "cell_type": "code",
   "id": "d651c7f2e559c44a",
   "metadata": {
    "id": "d651c7f2e559c44a",
    "ExecuteTime": {
     "end_time": "2025-10-10T06:33:55.214764Z",
     "start_time": "2025-10-10T06:33:55.208442Z"
    }
   },
   "source": [
    "# Инициализация объекта для построения графа\n",
    "G = nx.DiGraph()\n",
    "\n",
    "# Добавление в граф узлов и ребер\n",
    "for item in data:\n",
    "    a_id = item['a']['identity']\n",
    "    b_id = item['b']['identity']\n",
    "\n",
    "    a_label = item['a']['properties'].get('text') or item['a']['properties'].get('name')\n",
    "    b_label = item['b']['properties'].get('text') or item['b']['properties'].get('name')\n",
    "\n",
    "    G.add_node(a_id, label=a_label)\n",
    "    G.add_node(b_id, label=b_label)\n",
    "\n",
    "    edge_type = item['r']['type']\n",
    "    color = item['r']['color']\n",
    "    G.add_edge(a_id, b_id, label=edge_type, color=color)\n",
    "\n",
    "# Настройка цвета и текстовых меток у ребер\n",
    "edges = G.edges(data=True)\n",
    "edge_colors = [edge[2]['color'] for edge in edges]\n",
    "edge_labels = {(u, v): d['label'] for u, v, d in edges}"
   ],
   "outputs": [],
   "execution_count": 17
  },
  {
   "cell_type": "markdown",
   "id": "6d112fe9189453c4",
   "metadata": {},
   "source": "### 2.4. Вывод графа"
  },
  {
   "metadata": {},
   "cell_type": "markdown",
   "source": "Сделаем интерактивную визуализацию граф. Для этого воспользуемся библиотекой [pyvis](https://pyvis.readthedocs.io/en/latest/).",
   "id": "a8c13a9cc1a5aec7"
  },
  {
   "cell_type": "code",
   "id": "459d55adf6d8b1ac",
   "metadata": {
    "ExecuteTime": {
     "end_time": "2025-10-10T06:33:57.819053Z",
     "start_time": "2025-10-10T06:33:57.699917Z"
    }
   },
   "source": [
    "# Инициализация механизма визуализации\n",
    "net = Network(\n",
    "    notebook=True,\n",
    "    cdn_resources='in_line',\n",
    "    directed=True,\n",
    "    height='900px',\n",
    "    width='100%',\n",
    "    bgcolor='#f8fbff',\n",
    "    font_color='black',\n",
    ")\n",
    "\n",
    "# Считывание графа из объекта networkx\n",
    "net.from_nx(G)\n",
    "\n",
    "# Настройка отображения узлов\n",
    "for node in net.nodes:\n",
    "    node['shape'] = 'dot'\n",
    "    node['size'] = 30\n",
    "    node['font'] = {'size': 18, 'color': 'black', 'vadjust': 0}\n",
    "    node['title'] = node['label']\n",
    "    node['labelHighlightBold'] = True\n",
    "    node['color'] = {'background': 'lightblue', 'border': '#2b7ce9'}\n",
    "\n",
    "# Настройка отображения ребер\n",
    "for edge in net.edges:\n",
    "    edge['color'] = G.edges[edge['from'], edge['to']]['color']\n",
    "    edge['title'] = G.edges[edge['from'], edge['to']]['label']\n",
    "    edge['label'] = G.edges[edge['from'], edge['to']]['label']\n",
    "    edge['font'] = {'size': 14, 'align': 'top'}\n",
    "    edge['arrows'] = {'to': {'enabled': True, 'scaleFactor': 1.2}}\n",
    "\n",
    "# Настройка всего графа в целом\n",
    "net.set_options(\"\"\"\n",
    "{\n",
    "\"interaction\": {\n",
    "    \"zoomView\": true,\n",
    "    \"dragView\": true,\n",
    "     \"hover\": true\n",
    "  },\n",
    "  \"edges\": {\n",
    "    \"scaling\": {\n",
    "      \"min\": 1,\n",
    "      \"max\": 10,\n",
    "      \"label\": {\n",
    "        \"enabled\": true\n",
    "      }\n",
    "    }\n",
    "  },\n",
    "  \"physics\": {\n",
    "    \"enabled\": false,\n",
    "    \"hierarchicalRepulsion\": {\n",
    "      \"springLength\": 200,\n",
    "      \"nodeDistance\": 220,\n",
    "      \"damping\": 0.1\n",
    "    }\n",
    "  },\n",
    "  \"layout\": {\n",
    "    \"hierarchical\": {\n",
    "      \"enabled\": true,\n",
    "      \"levelSeparation\": 200,\n",
    "       \"direction\": \"LR\",\n",
    "      \"sortMethod\": \"directed\"\n",
    "    }\n",
    "  }\n",
    "}\n",
    "\"\"\")\n",
    "\n",
    "# Вывод графа\n",
    "net.show('graph.html')"
   ],
   "outputs": [
    {
     "name": "stdout",
     "output_type": "stream",
     "text": [
      "graph.html\n"
     ]
    },
    {
     "data": {
      "text/plain": [
       "<IPython.lib.display.IFrame at 0x7f7fa8395a30>"
      ],
      "text/html": [
       "\n",
       "        <iframe\n",
       "            width=\"100%\"\n",
       "            height=\"900px\"\n",
       "            src=\"graph.html\"\n",
       "            frameborder=\"0\"\n",
       "            allowfullscreen\n",
       "            \n",
       "        ></iframe>\n",
       "        "
      ]
     },
     "execution_count": 18,
     "metadata": {},
     "output_type": "execute_result"
    }
   ],
   "execution_count": 18
  }
 ],
 "metadata": {
  "colab": {
   "collapsed_sections": [
    "96acb020fa08ba61",
    "a2900ccc04e1debd"
   ],
   "provenance": []
  },
  "kernelspec": {
   "display_name": "Python 3 (ipykernel)",
   "language": "python",
   "name": "python3"
  },
  "language_info": {
   "codemirror_mode": {
    "name": "ipython",
    "version": 3
   },
   "file_extension": ".py",
   "mimetype": "text/x-python",
   "name": "python",
   "nbconvert_exporter": "python",
   "pygments_lexer": "ipython3",
   "version": "3.10.12"
  }
 },
 "nbformat": 4,
 "nbformat_minor": 5
}
