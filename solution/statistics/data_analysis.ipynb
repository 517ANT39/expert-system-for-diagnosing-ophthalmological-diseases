{
 "cells": [
  {
   "cell_type": "markdown",
   "id": "4b43a45dee6e6ee4",
   "metadata": {
    "id": "4b43a45dee6e6ee4"
   },
   "source": [
    "# Реализации базы знаний для экспертной системы дифференциальной диагностики офтальмологических заболеваний"
   ]
  },
  {
   "metadata": {},
   "cell_type": "markdown",
   "source": "##  1. Процесс создания базы знаний",
   "id": "dabd8edbc26b8f15"
  },
  {
   "metadata": {},
   "cell_type": "markdown",
   "source": "### 1.1. Общая концепция и структура алгоритма",
   "id": "6589cbf143068c9f"
  },
  {
   "metadata": {},
   "cell_type": "markdown",
   "source": "Диагностический алгоритм реализован в виде дерева решений, предназначенного для идентификации острых патологических состояний органа зрения на основе объективных клинических признаков, определяемых при офтальмологическом обследовании [[1]](#ref1).",
   "id": "587e5df70766b4ff"
  },
  {
   "metadata": {},
   "cell_type": "markdown",
   "source": "### 1.2. Принципы построения диагностического пути",
   "id": "a54544cf2d5294f0"
  },
  {
   "metadata": {},
   "cell_type": "markdown",
   "source": [
    "1. **Стратификация по степени угрозы зрительным функциям:** Первичное разделение основано на наличии нарушений зрительной функции, что позволяет выделить состояния, требующие неотложного вмешательства [[2]](#ref2), [[3]](#ref3).\n",
    "\n",
    "2. **Топографический принцип диагностики:** Последовательное определение анатомической локализации патологического процесса (передний отрезок, роговица, внутренние структуры глаза) [[4]](#ref4), [[5]](#ref5).\n",
    "\n",
    "3. **Дифференциация по патогенетическим механизмам:** Уточнение этиологии выявленных изменений (воспалительные, инфекционные, дистрофические процессы) [[6]](#ref6), [[7]](#ref7)."
   ],
   "id": "de764a316dd21064"
  },
  {
   "metadata": {},
   "cell_type": "markdown",
   "source": "1.3.",
   "id": "e53a86437ce66f15"
  },
  {
   "metadata": {},
   "cell_type": "markdown",
   "source": [
    "1. **Ветвь с нарушением зрительных функций**\n",
    "\n",
    "Объединяет состояния с объективным снижением остроты зрения, требующие незамедлительной диагностики и лечения.\n",
    "\n",
    "*   **Критерий 1.1: Наличие перикорнеальной или смешанной инъекции**\n",
    "    *   **Диагностическое значение:** Позволяет дифференцировать глубокие воспалительные процессы переднего отрезка глаза от патологий внутренних структур [[6]](#ref6), [[5]](#ref5).\n",
    "\n",
    "*   **Ветвь с подтвержденной перикорнеальной инъекцией (передний увеит и роговичные поражения):**\n",
    "    *   Оценка состояния радужной оболочки и зрачковых реакций направлена на верификацию диагнозов **ирита** и **иридоциклита** [[6]](#ref6), [[5]](#ref5).\n",
    "    *   При отсутствии изменений радужки диагностический поиск фокусируется на патологии роговицы. Выявление **блефароспазма** свидетельствует о роговичном синдроме [[7]](#ref7).\n",
    "    *   Детализация роговичных поражений включает:\n",
    "        *   Определение **дефектов эпителия** как ключевого диагностического признака [[8]](#ref8), [[7]](#ref7).\n",
    "        *   Оценку **помутнения стромы**, **чувствительности роговицы** и **наличия язвенного дефекта** для дифференциации инфекционных кератитов различной этиологии [[8]](#ref8), [[9]](#ref9), [[7]](#ref7)].\n",
    "        *   Снижение корнеальной чувствительности является патогномоничным признаком **герпетического кератита** [[7]](#ref7)].\n",
    "        *   Диагноз **буллёзной кератопатии** устанавливается при выявлении эндотелиальной недостаточности без признаков активного воспаления [[8]](#ref8)].\n",
    "\n",
    "*   **Ветвь без перикорнеальной инъекции (патология внутренних сред глаза):**\n",
    "    *   Возрастной критерий применяется для стратификации пациентов с **катарактой** как наиболее частой причиной снижения зрения в старшей возрастной группе [[10]](#ref10), [[11]](#ref11), [[12]](#ref12)].\n",
    "    *   У пациентов молодого возраста диагностический поиск сконцентрирован на воспалительных заболеваниях заднего отрезка глаза. Данные о перенесенной инфекции имеют ключевое значение для диагностики **хориоретинита** [[13]](#ref13), [[5]](#ref5)].\n",
    "    *   Обнаружение **периваскулярных муфт** является специфическим признаком **периферического увеита** [[5]](#ref5)].\n",
    "    *   Оценка состояния **стекловидного тела** и **диска зрительного нерва** завершает диагностический алгоритм в данной ветви [[4]](#ref4), [[14]](#ref14), [[13]](#ref13)].\n",
    "\n",
    "2. **Ветвь без нарушения зрительных функций**\n",
    "\n",
    "Сфокусирована на заболеваниях с сохраненной остротой зрения, но наличием других объективных симптомов.\n",
    "\n",
    "*   **Критерий 2.1: Наличие конъюнктивальной инъекции**\n",
    "    *   **Диагностическое значение:** Позволяет идентифицировать патологические процессы конъюнктивы и поверхности глаза [[15]](#ref15), [[3]](#ref3)].\n",
    "\n",
    "*   **Ветвь с конъюнктивальной инъекцией (конъюнктивиты):**\n",
    "    *   Дифференциальная диагностика основана на характеристиках отделяемого и сопутствующих объективных признаках:\n",
    "        *   **Слизисто-гнойное отделяемое** характерно для **бактериального конъюнктивита** [[15]](#ref15), [[3]](#ref3)].\n",
    "        *   **Геморрагии конъюнктивы** являются диагностическим признаком **геморрагического конъюнктивита** [[15]](#ref15)].\n",
    "        *   **Ксеротические изменения** и **петехиальные кровоизлияния** позволяют дифференцировать **пемфигоид**, **аденовирусный** и **аллергический конъюнктивиты** [[16]](#ref16), [[15]](#ref15), [[3]](#ref3)].\n",
    "\n",
    "*   **Ветвь без конъюнктивальной инъекции (нарушения положения и подвижности глаз):**\n",
    "    *   Оценка положения глазного яблока в орбите направлена на выявление **эндокринной офтальмопатии** [[17]](#ref17), [[3]](#ref3)].\n",
    "    *   Анализ объема глазодвижений позволяет дифференцировать формы **косоглазия** [[17]](#ref17)].\n"
   ],
   "id": "9ce555bbd44acec3"
  },
  {
   "metadata": {},
   "cell_type": "markdown",
   "source": "### 1.4 Реализация способа хранения базы знаний",
   "id": "9b749791646fd170"
  },
  {
   "metadata": {},
   "cell_type": "markdown",
   "source": "На основе собранных данных была построена база знаний, которая представлет собой json-документ. Схема json-документа следующая:",
   "id": "68ed36ebadf1a97a"
  },
  {
   "metadata": {},
   "cell_type": "markdown",
   "source": [
    "```\n",
    "{\n",
    "    \"name\": \"DecisionTreeSchema\",\n",
    "    \"description\": \"Схема дерева решений для медицинской диагностики\",\n",
    "    \"root_type\": \"DecisionNode\",\n",
    "\n",
    "    \"types\": {\n",
    "        \"DecisionNode\": {\n",
    "            \"description\": \"Узел дерева решений содержащий вопрос и ветвления\",\n",
    "            \"properties\": {\n",
    "                \"text\": {\n",
    "                    \"type\": \"string\",\n",
    "                    \"description\": \"Текст вопроса или диагноза\",\n",
    "                    \"required\": true\n",
    "                },\n",
    "                \"yes\": {\n",
    "                    \"type\": [\"DecisionNode\", \"null\"],\n",
    "                    \"description\": \"Ветвь для положительного ответа\",\n",
    "                    \"required\": true\n",
    "                },\n",
    "                \"no\": {\n",
    "                    \"type\": [\"DecisionNode\", \"null\"],\n",
    "                    \"description\": \"Ветвь для отрицательного ответа\",\n",
    "                    \"required\": true\n",
    "                }\n",
    "            }\n",
    "        }\n",
    "    },\n",
    "\n",
    "    \"validation_rules\": {\n",
    "        \"terminal_node\": \"Узел является терминальным (диагнозом) если оба yes и no равны null\",\n",
    "        \"question_node\": \"Узел является вопросом если хотя бы одна из ветвей yes или no не null\"\n",
    "    },\n",
    "\n",
    "    \"examples\": {\n",
    "        \"question_node\": {\n",
    "            \"text\": \"Есть ли перикорнеальная инъекция?\",\n",
    "            \"yes\": {\"$ref\": \"DecisionNode\"},\n",
    "            \"no\": {\"$ref\": \"DecisionNode\"}\n",
    "        },\n",
    "        \"terminal_node\": {\n",
    "            \"text\": \"Ирит\",\n",
    "            \"yes\": null,\n",
    "            \"no\": null\n",
    "        }\n",
    "    }\n",
    "}\n",
    "```"
   ],
   "id": "39fb363138c1a986"
  },
  {
   "metadata": {},
   "cell_type": "markdown",
   "source": [
    "Такая структура обеспичит:\n",
    "1. **Логическую стройность:** Отражение иерархической природы диагностического процесса\n",
    "2. **Эффективность обработки:** Минималистичная структура узлов с тремя обязательными полями\n",
    "3. **Четкую семантику:** Однозначное разделение на диагностические вопросы (узлы с ветвлениями) и заключительные диагнозы (терминальные узлы)\n",
    "4. **Масштабируемость:** Возможность расширения алгоритма без изменения базовой структуры"
   ],
   "id": "6bb9b644cfb19d89"
  },
  {
   "metadata": {
    "id": "27ba9e3d9da4d001"
   },
   "cell_type": "markdown",
   "source": "## 2. Процесс работы с данными",
   "id": "f232aa1fbe6191ff"
  },
  {
   "metadata": {},
   "cell_type": "markdown",
   "source": "#### 2.1. Установка и подключение python-библиотек",
   "id": "4b3747927ff0cfb8"
  },
  {
   "metadata": {},
   "cell_type": "markdown",
   "source": "Утановим необходимые python-библиотеки",
   "id": "6c411a5be5685600"
  },
  {
   "metadata": {
    "colab": {
     "base_uri": "https://localhost:8080/"
    },
    "id": "783f24aea994845e",
    "outputId": "0c6d932d-b548-4d22-d0c9-5bb05c51db23",
    "ExecuteTime": {
     "end_time": "2025-10-11T16:02:23.861238Z",
     "start_time": "2025-10-11T16:02:23.103806Z"
    }
   },
   "cell_type": "code",
   "source": "!pip install networkx pyvis",
   "id": "9240b88658f535d9",
   "outputs": [
    {
     "name": "stdout",
     "output_type": "stream",
     "text": [
      "Requirement already satisfied: networkx in /home/anton/PycharmProjects/expert-system-for-diagnosing-ophthalmological-diseases/.venv/lib/python3.10/site-packages (3.4.2)\r\n",
      "Requirement already satisfied: pyvis in /home/anton/PycharmProjects/expert-system-for-diagnosing-ophthalmological-diseases/.venv/lib/python3.10/site-packages (0.3.2)\r\n",
      "Requirement already satisfied: ipython>=5.3.0 in /home/anton/PycharmProjects/expert-system-for-diagnosing-ophthalmological-diseases/.venv/lib/python3.10/site-packages (from pyvis) (8.37.0)\r\n",
      "Requirement already satisfied: jinja2>=2.9.6 in /home/anton/PycharmProjects/expert-system-for-diagnosing-ophthalmological-diseases/.venv/lib/python3.10/site-packages (from pyvis) (3.1.6)\r\n",
      "Requirement already satisfied: jsonpickle>=1.4.1 in /home/anton/PycharmProjects/expert-system-for-diagnosing-ophthalmological-diseases/.venv/lib/python3.10/site-packages (from pyvis) (4.1.1)\r\n",
      "Requirement already satisfied: decorator in /home/anton/PycharmProjects/expert-system-for-diagnosing-ophthalmological-diseases/.venv/lib/python3.10/site-packages (from ipython>=5.3.0->pyvis) (5.2.1)\r\n",
      "Requirement already satisfied: exceptiongroup in /home/anton/PycharmProjects/expert-system-for-diagnosing-ophthalmological-diseases/.venv/lib/python3.10/site-packages (from ipython>=5.3.0->pyvis) (1.3.0)\r\n",
      "Requirement already satisfied: jedi>=0.16 in /home/anton/PycharmProjects/expert-system-for-diagnosing-ophthalmological-diseases/.venv/lib/python3.10/site-packages (from ipython>=5.3.0->pyvis) (0.19.2)\r\n",
      "Requirement already satisfied: matplotlib-inline in /home/anton/PycharmProjects/expert-system-for-diagnosing-ophthalmological-diseases/.venv/lib/python3.10/site-packages (from ipython>=5.3.0->pyvis) (0.1.7)\r\n",
      "Requirement already satisfied: pexpect>4.3 in /home/anton/PycharmProjects/expert-system-for-diagnosing-ophthalmological-diseases/.venv/lib/python3.10/site-packages (from ipython>=5.3.0->pyvis) (4.9.0)\r\n",
      "Requirement already satisfied: prompt_toolkit<3.1.0,>=3.0.41 in /home/anton/PycharmProjects/expert-system-for-diagnosing-ophthalmological-diseases/.venv/lib/python3.10/site-packages (from ipython>=5.3.0->pyvis) (3.0.52)\r\n",
      "Requirement already satisfied: pygments>=2.4.0 in /home/anton/PycharmProjects/expert-system-for-diagnosing-ophthalmological-diseases/.venv/lib/python3.10/site-packages (from ipython>=5.3.0->pyvis) (2.19.2)\r\n",
      "Requirement already satisfied: stack_data in /home/anton/PycharmProjects/expert-system-for-diagnosing-ophthalmological-diseases/.venv/lib/python3.10/site-packages (from ipython>=5.3.0->pyvis) (0.6.3)\r\n",
      "Requirement already satisfied: traitlets>=5.13.0 in /home/anton/PycharmProjects/expert-system-for-diagnosing-ophthalmological-diseases/.venv/lib/python3.10/site-packages (from ipython>=5.3.0->pyvis) (5.14.3)\r\n",
      "Requirement already satisfied: typing_extensions>=4.6 in /home/anton/PycharmProjects/expert-system-for-diagnosing-ophthalmological-diseases/.venv/lib/python3.10/site-packages (from ipython>=5.3.0->pyvis) (4.15.0)\r\n",
      "Requirement already satisfied: MarkupSafe>=2.0 in /home/anton/PycharmProjects/expert-system-for-diagnosing-ophthalmological-diseases/.venv/lib/python3.10/site-packages (from jinja2>=2.9.6->pyvis) (3.0.3)\r\n",
      "Requirement already satisfied: parso<0.9.0,>=0.8.4 in /home/anton/PycharmProjects/expert-system-for-diagnosing-ophthalmological-diseases/.venv/lib/python3.10/site-packages (from jedi>=0.16->ipython>=5.3.0->pyvis) (0.8.5)\r\n",
      "Requirement already satisfied: ptyprocess>=0.5 in /home/anton/PycharmProjects/expert-system-for-diagnosing-ophthalmological-diseases/.venv/lib/python3.10/site-packages (from pexpect>4.3->ipython>=5.3.0->pyvis) (0.7.0)\r\n",
      "Requirement already satisfied: wcwidth in /home/anton/PycharmProjects/expert-system-for-diagnosing-ophthalmological-diseases/.venv/lib/python3.10/site-packages (from prompt_toolkit<3.1.0,>=3.0.41->ipython>=5.3.0->pyvis) (0.2.14)\r\n",
      "Requirement already satisfied: executing>=1.2.0 in /home/anton/PycharmProjects/expert-system-for-diagnosing-ophthalmological-diseases/.venv/lib/python3.10/site-packages (from stack_data->ipython>=5.3.0->pyvis) (2.2.1)\r\n",
      "Requirement already satisfied: asttokens>=2.1.0 in /home/anton/PycharmProjects/expert-system-for-diagnosing-ophthalmological-diseases/.venv/lib/python3.10/site-packages (from stack_data->ipython>=5.3.0->pyvis) (3.0.0)\r\n",
      "Requirement already satisfied: pure-eval in /home/anton/PycharmProjects/expert-system-for-diagnosing-ophthalmological-diseases/.venv/lib/python3.10/site-packages (from stack_data->ipython>=5.3.0->pyvis) (0.2.3)\r\n",
      "\r\n",
      "\u001B[1m[\u001B[0m\u001B[34;49mnotice\u001B[0m\u001B[1;39;49m]\u001B[0m\u001B[39;49m A new release of pip is available: \u001B[0m\u001B[31;49m24.3.1\u001B[0m\u001B[39;49m -> \u001B[0m\u001B[32;49m25.2\u001B[0m\r\n",
      "\u001B[1m[\u001B[0m\u001B[34;49mnotice\u001B[0m\u001B[1;39;49m]\u001B[0m\u001B[39;49m To update, run: \u001B[0m\u001B[32;49mpip install --upgrade pip\u001B[0m\r\n"
     ]
    }
   ],
   "execution_count": 2
  },
  {
   "metadata": {},
   "cell_type": "markdown",
   "source": "Подключим нужные библиотеки:",
   "id": "5428b4658b14b1b7"
  },
  {
   "metadata": {
    "id": "a393934b1376476d",
    "ExecuteTime": {
     "end_time": "2025-10-11T16:02:25.457011Z",
     "start_time": "2025-10-11T16:02:25.301540Z"
    }
   },
   "cell_type": "code",
   "source": [
    "import json\n",
    "import os\n",
    "import networkx as nx\n",
    "from pyvis.network import Network\n",
    "from IPython.display import JSON, display"
   ],
   "id": "2140096a250c5ccd",
   "outputs": [],
   "execution_count": 3
  },
  {
   "metadata": {},
   "cell_type": "markdown",
   "source": "### 2.2. Выгрузка базы знаний",
   "id": "db707cf7f04edbb7"
  },
  {
   "metadata": {},
   "cell_type": "markdown",
   "source": "Выгрузим базу знаний из json-докумета:",
   "id": "b7b246400ac2774a"
  },
  {
   "metadata": {
    "ExecuteTime": {
     "end_time": "2025-10-11T16:02:27.224376Z",
     "start_time": "2025-10-11T16:02:27.219671Z"
    }
   },
   "cell_type": "code",
   "source": [
    "with open(os.path.join(os.getcwd(),\"data.json\")) as f:\n",
    "    data = json.load(f)"
   ],
   "id": "16fb563dbb27a281",
   "outputs": [],
   "execution_count": 4
  },
  {
   "metadata": {},
   "cell_type": "markdown",
   "source": "Выведем загруженную базу знаний на дисплей:",
   "id": "2a4d3908cc3f8fd6"
  },
  {
   "metadata": {
    "ExecuteTime": {
     "end_time": "2025-10-11T16:02:28.843376Z",
     "start_time": "2025-10-11T16:02:28.838886Z"
    }
   },
   "cell_type": "code",
   "source": "display(JSON(data))",
   "id": "b110bdb92a272620",
   "outputs": [
    {
     "data": {
      "text/plain": [
       "<IPython.core.display.JSON object>"
      ],
      "application/json": {
       "text": "Нарушены ли зрительные функции?",
       "yes": {
        "text": "Есть ли перикорнеальная или смешанная инъекция?",
        "yes": {
         "text": "Есть ли изменения в радужной оболочке?",
         "yes": {
          "text": "Реакция зрачка на свет ослаблена?",
          "yes": {
           "text": "Ирит",
           "yes": null,
           "no": null
          },
          "no": {
           "text": "Иритдоциклит",
           "yes": null,
           "no": null
          }
         },
         "no": {
          "text": "Есть ли блефароспазм?",
          "yes": {
           "text": "Есть ли дефект эпителия роговицы?",
           "yes": {
            "text": "Есть ли помутнение роговицы?",
            "yes": {
             "text": "Есть ли понижение чувствительности роговицы?",
             "yes": {
              "text": "Герпетический кератит",
              "yes": null,
              "no": null
             },
             "no": {
              "text": "Дистрофия роговицы",
              "yes": null,
              "no": null
             }
            },
            "no": {
             "text": "Есть ли язва роговицы?",
             "yes": {
              "text": "Язва роговицы",
              "yes": null,
              "no": null
             },
             "no": {
              "text": "Есть ли эрозия роговицы?",
              "yes": {
               "text": "Есть ли шероховатость на поверхности роговицы?",
               "yes": {
                "text": "Акантаамебный кератит",
                "yes": null,
                "no": null
               },
               "no": {
                "text": "Эрозия роговицы",
                "yes": null,
                "no": null
               }
              },
              "no": {
               "text": "Бактериальный кератит",
               "yes": null,
               "no": null
              }
             }
            }
           },
           "no": {
            "text": "Буллёзная кератопатия",
            "yes": null,
            "no": null
           }
          },
          "no": {
           "text": "Ксерофтальмия",
           "yes": null,
           "no": null
          }
         }
        },
        "no": {
         "text": "Возраст старше 65?",
         "yes": {
          "text": "Есть ли помутнение хрусталика?",
          "yes": {
           "text": "Катаракта",
           "yes": null,
           "no": null
          },
          "no": {
           "text": "Заболевание сетчатки",
           "yes": null,
           "no": null
          }
         },
         "no": {
          "text": "Было ли перенесено тяжелое инфекционное заболевание?",
          "yes": {
           "text": "Есть ли муфты вокруг сосудов?",
           "yes": {
            "text": "Периферический увеит",
            "yes": null,
            "no": null
           },
           "no": {
            "text": "Хориоретинит",
            "yes": null,
            "no": null
           }
          },
          "no": {
           "text": "Есть ли изменение стекловидного тела?",
           "yes": {
            "text": "Заболевание стекловидного тела",
            "yes": null,
            "no": null
           },
           "no": {
            "text": "Патология диска зрительного нерва",
            "yes": null,
            "no": null
           }
          }
         }
        }
       },
       "no": {
        "text": "Есть ли конъюнктивальная инъекция?",
        "yes": {
         "text": "Отделяемое слизисто-гнойное?",
         "yes": {
          "text": "Бактериальный конъюнктивит",
          "yes": null,
          "no": null
         },
         "no": {
          "text": "Есть ли инфаркты мейбомиевых желез?",
          "yes": {
           "text": "Геморрагический конъюнктивит (энтеровирусный)",
           "yes": null,
           "no": null
          },
          "no": {
           "text": "Есть ли ксероз?",
           "yes": {
            "text": "Пемфигоид конъюнктивы",
            "yes": null,
            "no": null
           },
           "no": {
            "text": "Есть ли петехиальные кровоизлияния?",
            "yes": {
             "text": "Аденовирусный конъюнктивит",
             "yes": null,
             "no": null
            },
            "no": {
             "text": "Аллергический конъюнктивит",
             "yes": null,
             "no": null
            }
           }
          }
         }
        },
        "no": {
         "text": "Нарушено ли положение глаз в орбите?",
         "yes": {
          "text": "Движение глазных яблок в полном объеме?",
          "yes": {
           "text": "Содружественное косоглазие",
           "yes": null,
           "no": null
          },
          "no": {
           "text": "Паралитическое косоглазие",
           "yes": null,
           "no": null
          }
         },
         "no": {
          "text": "Эндокринная офтальмопатия",
          "yes": null,
          "no": null
         }
        }
       }
      }
     },
     "metadata": {
      "application/json": {
       "expanded": false,
       "root": "root"
      }
     },
     "output_type": "display_data",
     "jetTransient": {
      "display_id": null
     }
    }
   ],
   "execution_count": 5
  },
  {
   "cell_type": "markdown",
   "id": "5df05c7a1ff2fb99",
   "metadata": {},
   "source": "### 2.3. Вывод графа принятия решений"
  },
  {
   "cell_type": "markdown",
   "id": "df198c32e8075f8",
   "metadata": {},
   "source": "Построим объект графа принятия решения из загруженной базы знаний для дальнейшего вывода. Для этого воспользуемся библиотекой [networkx](https://networkx.org/)"
  },
  {
   "cell_type": "code",
   "id": "d651c7f2e559c44a",
   "metadata": {
    "id": "d651c7f2e559c44a",
    "ExecuteTime": {
     "end_time": "2025-10-11T16:02:31.149561Z",
     "start_time": "2025-10-11T16:02:31.145848Z"
    }
   },
   "source": [
    "# Создание графа NetworkX\n",
    "G = nx.DiGraph()\n",
    "node_counter = 0\n",
    "\n",
    "# Функция для рекурсивного построения графа\n",
    "def build_graph(data, parent_id=None, edge_label=None):\n",
    "    global node_counter\n",
    "\n",
    "    if data is None or data.get('text') is None:\n",
    "        return\n",
    "\n",
    "    current_id = node_counter\n",
    "    node_counter += 1\n",
    "\n",
    "    # Добавляем узел\n",
    "    node_text = data['text']\n",
    "    is_diagnosis =  not data['yes'] and not data['no']\n",
    "\n",
    "    G.add_node(current_id,\n",
    "               label=node_text,\n",
    "               type='diagnosis' if is_diagnosis else 'question',\n",
    "               color='lightgreen' if is_diagnosis else 'lightblue')\n",
    "\n",
    "    # Добавляем ребро от родителя, если есть\n",
    "    if parent_id is not None:\n",
    "        G.add_edge(parent_id, current_id,\n",
    "                   label=edge_label,\n",
    "                   color='green' if edge_label == 'Да' else 'red')\n",
    "\n",
    "    # Рекурсивно обрабатываем ответы \"yes\" и \"no\"\n",
    "    if data.get('yes'):\n",
    "        build_graph(data['yes'], current_id, 'Да')\n",
    "    if data.get('no'):\n",
    "        build_graph(data['no'], current_id, 'Нет')\n",
    "\n",
    "# Построение графа\n",
    "build_graph(data)"
   ],
   "outputs": [],
   "execution_count": 6
  },
  {
   "cell_type": "markdown",
   "id": "a8c13a9cc1a5aec7",
   "metadata": {},
   "source": "Сделаем интерактивную визуализацию граф. Для этого воспользуемся библиотекой [pyvis](https://pyvis.readthedocs.io/en/latest/). После запуска ячейке ниже, на дисплей будет выведено интерактивное представление графа принятия решений. Также в текущей директории появится файл `graph.html` с представлением графа принятия решений."
  },
  {
   "cell_type": "code",
   "id": "459d55adf6d8b1ac",
   "metadata": {
    "ExecuteTime": {
     "end_time": "2025-10-11T16:02:33.438217Z",
     "start_time": "2025-10-11T16:02:33.350432Z"
    }
   },
   "source": [
    "# Инициализация механизма визуализации\n",
    "net = Network(\n",
    "    notebook=True,\n",
    "    cdn_resources='in_line',\n",
    "    directed=True,\n",
    "    height='900px',\n",
    "    width='100%',\n",
    "    bgcolor='#f8fbff',\n",
    "    font_color='black',\n",
    ")\n",
    "\n",
    "# Считывание графа из объекта networkx\n",
    "net.from_nx(G)\n",
    "\n",
    "# Настройка отображения узлов\n",
    "for node in net.nodes:\n",
    "    node['shape'] = 'dot'\n",
    "    node['size'] = 30\n",
    "    node['font'] = {'size': 18, 'color': 'black', 'vadjust': 0}\n",
    "    node['title'] = node['label']\n",
    "    node['labelHighlightBold'] = True\n",
    "    node['color'] = {'background': node['color'], 'border': '#2b7ce9'}\n",
    "\n",
    "# Настройка отображения ребер\n",
    "for edge in net.edges:\n",
    "    edge['color'] = G.edges[edge['from'], edge['to']]['color']\n",
    "    edge['title'] = G.edges[edge['from'], edge['to']]['label']\n",
    "    edge['label'] = G.edges[edge['from'], edge['to']]['label']\n",
    "    edge['font'] = {'size': 14, 'align': 'top'}\n",
    "    edge['arrows'] = {'to': {'enabled': True, 'scaleFactor': 1.2}}\n",
    "\n",
    "# Настройка всего графа в целом\n",
    "net.set_options(\"\"\"\n",
    "{\n",
    "\"interaction\": {\n",
    "    \"zoomView\": true,\n",
    "    \"dragView\": true,\n",
    "     \"hover\": true\n",
    "  },\n",
    "  \"edges\": {\n",
    "    \"scaling\": {\n",
    "      \"min\": 1,\n",
    "      \"max\": 10,\n",
    "      \"label\": {\n",
    "        \"enabled\": true\n",
    "      }\n",
    "    }\n",
    "  },\n",
    "  \"physics\": {\n",
    "    \"enabled\": false,\n",
    "    \"hierarchicalRepulsion\": {\n",
    "      \"springLength\": 200,\n",
    "      \"nodeDistance\": 220,\n",
    "      \"damping\": 0.1\n",
    "    }\n",
    "  },\n",
    "  \"layout\": {\n",
    "    \"hierarchical\": {\n",
    "      \"enabled\": true,\n",
    "      \"levelSeparation\": 200,\n",
    "       \"direction\": \"LR\",\n",
    "      \"sortMethod\": \"directed\"\n",
    "    }\n",
    "  }\n",
    "}\n",
    "\"\"\")\n",
    "\n",
    "# Вывод графа\n",
    "net.show('graph.html')"
   ],
   "outputs": [
    {
     "name": "stdout",
     "output_type": "stream",
     "text": [
      "graph.html\n"
     ]
    },
    {
     "data": {
      "text/plain": [
       "<IPython.lib.display.IFrame at 0x7f0bd73952a0>"
      ],
      "text/html": [
       "\n",
       "        <iframe\n",
       "            width=\"100%\"\n",
       "            height=\"900px\"\n",
       "            src=\"graph.html\"\n",
       "            frameborder=\"0\"\n",
       "            allowfullscreen\n",
       "            \n",
       "        ></iframe>\n",
       "        "
      ]
     },
     "execution_count": 7,
     "metadata": {},
     "output_type": "execute_result"
    }
   ],
   "execution_count": 7
  },
  {
   "cell_type": "markdown",
   "id": "3519d578ec9f6dd9",
   "metadata": {
    "id": "113263104c4572f8"
   },
   "source": [
    "## 3. Источники знаний о предметной области"
   ]
  },
  {
   "cell_type": "markdown",
   "id": "800d22c3c1641b7b",
   "metadata": {},
   "source": [
    "1. <a id=\"ref1\"> Сидоров, Ю. А. Компьютерное моделирование офтальмологических диагнозов [Текст] / Ю. А. Сидоров // Офтальмохирургия. — 2020. — № 2. — С. 49–55. </a>\n",
    "\n",
    "2. <a id=\"ref2\"> World Health Organization. International Classification of Diseases, 11th Revision (ICD-11) [Электронный ресурс] — URL: https://icd.who.int/en (Дата обращения: 09.10.2025). </a>\n",
    "\n",
    "3. <a id=\"ref3\"> American Academy of Ophthalmology. Preferred Practice Pattern® Guidelines [Электронный ресурс] — URL: https://www.aao.org/education/preferred-practice-patterns (Дата обращения: 09.10.2025). </a>\n",
    "\n",
    "4. <a id=\"ref4\"> Бойко, Е. В. Алгоритмы диагностики заболеваний сетчатки [Текст] / Е. В. Бойко // Офтальмология. — 2021. — Т. 18, № 2. — С. 33–40. </a>\n",
    "\n",
    "5. <a id=\"ref5\"> Громов, С. А. Диагностика и лечение увеитов [Текст] / С. А. Громов // Офтальмология. — 2021. — № 6. — С. 30–38. </a>\n",
    "\n",
    "6. <a id=\"ref6\"> Киселёв, А. Ю. Дифференциальная диагностика воспалительных заболеваний глаз [Текст] / А. Ю. Киселёв // Вестник офтальмологии. — 2022. — Т. 138, № 4. — С. 45–52. </a>\n",
    "\n",
    "7. <a id=\"ref7\"> Чухраева, Н. А. Современные представления о кератитах [Текст] / Н. А. Чухраева // Офтальмохирургия. — 2023. — № 4. — С. 9–18. </a>\n",
    "\n",
    "8. <a id=\"ref8\"> Егоров, Е. А. Дифференциальная диагностика помутнений роговицы [Текст] / Е. А. Егоров // Офтальмохирургия. — 2020. — № 3. — С. 18–26. </a>\n",
    "\n",
    "9. <a id=\"ref9\"> Селиванов, П. А. Роговичные дистрофии: классификация и подходы к терапии [Текст] / П. А. Селиванов // Офтальмология. — 2022. — № 5. — С. 63–71. </a>\n",
    "\n",
    "10. <a id=\"ref10\"> Шамшинова, А. М. Возрастные изменения зрительного анализатора [Текст] / А. М. Шамшинова // Вестник офтальмологии. — 2019. — № 6. — С. 7–15. </a>\n",
    "\n",
    "11. <a id=\"ref11\"> Орлова, Е. П. Особенности офтальмопатологии у пожилых пациентов [Текст] / Е. П. Орлова // Вестник офтальмологии. — 2019. — № 5. — С. 22–28. </a>\n",
    "\n",
    "12. <a id=\"ref12\"> Зорин, А. В. Дифференциальная диагностика катаракты и помутнений стекловидного тела [Текст] / А. В. Зорин // Вестник офтальмологии. — 2023. — № 1. — С. 27–35. </a>\n",
    "\n",
    "13. <a id=\"ref13\"> Иванова, И. Н. Поражения сетчатки при системных заболеваниях [Текст] / И. Н. Иванова // Офтальмология. — 2020. — № 1. — С. 47–56. </a>\n",
    "\n",
    "14. <a id=\"ref14\"> Кацнельсон, Л. А. Современные подходы к диагностике глаукомы [Текст] / Л. А. Кацнельсон // Офтальмология. — 2023. — Т. 20, № 1. — С. 12–20. </a>\n",
    "\n",
    "15. <a id=\"ref15\"> Петрова, Л. В. Поражения глаз при вирусных инфекциях [Текст] / Л. В. Петрова // Российская детская офтальмология. — 2022. — № 1. — С. 58–66. </a>\n",
    "\n",
    "16. <a id=\"ref16\"> Ченцов, В. В. Блефарит: диагностика и лечение [Текст] / В. В. Ченцов // Вестник офтальмологии. — 2020. — № 2. — С. 41–48. </a>\n",
    "\n",
    "17. <a id=\"ref17\"> Гордеев, Д. В. Нейроофтальмологические синдромы [Текст] / Д. В. Гордеев // Вестник офтальмологии. — 2021. — № 3. — С. 55–62. </a>"
   ]
  }
 ],
 "metadata": {
  "colab": {
   "collapsed_sections": [
    "96acb020fa08ba61",
    "a2900ccc04e1debd"
   ],
   "provenance": []
  },
  "kernelspec": {
   "display_name": "Python 3 (ipykernel)",
   "language": "python",
   "name": "python3"
  },
  "language_info": {
   "codemirror_mode": {
    "name": "ipython",
    "version": 3
   },
   "file_extension": ".py",
   "mimetype": "text/x-python",
   "name": "python",
   "nbconvert_exporter": "python",
   "pygments_lexer": "ipython3",
   "version": "3.12.7"
  }
 },
 "nbformat": 4,
 "nbformat_minor": 5
}
