{
 "cells": [
  {
   "cell_type": "markdown",
   "id": "4b43a45dee6e6ee4",
   "metadata": {},
   "source": [
    "# Реализации базы знаний для экспертной системы дифференциальной диагностики офтальмологических заболеваний"
   ]
  },
  {
   "cell_type": "markdown",
   "id": "38ff3ae8c0b8deab",
   "metadata": {
    "jp-MarkdownHeadingCollapsed": true
   },
   "source": [
    "## Выбор представления знаний для экспертной системы\n",
    "\n",
    "\n",
    "\n",
    "\n",
    "\n",
    "\n"
   ]
  },
  {
   "cell_type": "markdown",
   "id": "2d11da4b9dc69673",
   "metadata": {},
   "source": [
    "### Контекст"
   ]
  },
  {
   "cell_type": "markdown",
   "id": "cfb5a62cd8e726d8",
   "metadata": {},
   "source": [
    "Дифференциальная диагностика офтальмологических заболеваний требует систематического анализа большого числа симптомов, которые могут пересекаться между различными патологиями. Для начинающих врачей особенно важно, чтобы процесс принятия решений был прозрачным, последовательным и не зависел от сложных статистических моделей.\n",
    "В условиях ограниченных данных и отсутствия специализированного оборудования применение вероятностных или машинных методов диагностики оказывается затруднительным: такие подходы требуют больших обучающих выборок, а также создают трудности в интерпретации результатов.\n",
    "Необходима структура представления знаний, которая позволит формализовать процесс рассуждения врача в виде понятной и проверяемой последовательности логических шагов, основанных на бинарных ответах «Да»/«Нет»."
   ]
  },
  {
   "cell_type": "markdown",
   "id": "228e0dd050c023d5",
   "metadata": {},
   "source": [
    "### Факторы, влияющие на принятие решения"
   ]
  },
  {
   "cell_type": "markdown",
   "id": "13b46116a3b7633f",
   "metadata": {},
   "source": [
    "- **Интерпретируемость** — необходимость, чтобы логика вывода была полностью прозрачна для пользователя (врача).\n",
    "- **Ограниченность данных** — невозможность применения статистических методов и машинного обучения из-за малых выборок.\n",
    "- **Простота модификации** — возможность обновления правил и добавления новых заболеваний без пересмотра всей модели.\n",
    "- **Детерминированность** — одинаковый результат при одинаковом наборе ответов, что особенно важно для медицинской области.\n",
    "- **Устойчивость к ошибкам данных** — система должна корректно работать даже при отсутствии некоторых симптомов или неполных ответах."
   ]
  },
  {
   "cell_type": "markdown",
   "id": "344720a338c2416f",
   "metadata": {},
   "source": [
    "### Рассмотренные варианты\n"
   ]
  },
  {
   "cell_type": "markdown",
   "id": "3bc0219d1dca2516",
   "metadata": {},
   "source": [
    "- **Правила на основе продукционных систем** (если–то): хорошо подходят для описания экспертных знаний, но при большом количестве симптомов и заболеваний создают избыточность и сложность сопровождения; логика связи между симптомами становится неочевидной.\n",
    "- **Вероятностные модели (например, байесовские сети)**: позволяют учитывать неопределенность симптомов, однако требуют статистических данных и не всегда понятны для интерпретации начинающими специалистами.\n",
    "- **Деревья решений**: обеспечивают прозрачную структуру, но статичны — при изменении логики диагностики дерево необходимо перестраивать полностью, что усложняет масштабирование.\n",
    "- **Граф принятия решений**: обобщает дерево решений, позволяя использовать повторяющиеся узлы и связи. Каждая вершина графа представляет вопрос или промежуточное диагностическое состояние, а ребра описывают переход по ответу «Да» или «Нет». Такой подход сохраняет прозрачность логики и одновременно обеспечивает гибкость расширения."
   ]
  },
  {
   "cell_type": "markdown",
   "id": "833239db1c2ba374",
   "metadata": {},
   "source": [
    "### Результат решения"
   ]
  },
  {
   "cell_type": "markdown",
   "id": "1a33dec83e876d0f",
   "metadata": {},
   "source": [
    "**Выбран вариант — граф принятия решений.**\n",
    "Он обеспечивает формализованное и интерпретируемое представление экспертных знаний, позволяя моделировать процесс диагностики как пошаговый переход между состояниями. Алгоритмы обхода графа (DFS, BFS) используются для последовательного движения по вопросам до достижения финального диагноза.\n",
    "В отличие от вероятностных моделей и деревьев решений, граф допускает использование общих подграфов (например, повторяющихся симптомов для разных заболеваний), что делает систему более компактной и управляемой."
   ]
  },
  {
   "cell_type": "markdown",
   "id": "1e21a6688c0e473d",
   "metadata": {},
   "source": [
    "### Последствия"
   ]
  },
  {
   "cell_type": "markdown",
   "id": "f43e2cd673468805",
   "metadata": {},
   "source": [
    "**Положительные**\n",
    "- Прозрачность и интерпретируемость логики вывода, что повышает доверие со стороны врачей.\n",
    "- Возможность расширения графа без пересмотра всей модели, добавляя новые связи и узлы.\n",
    "- Отсутствие зависимости от обучающих выборок и статистических параметров.\n",
    "- Явная логическая структура, соответствующая клиническому мышлению врача.\n",
    "- Простота визуализации диагностического процесса и его объяснения пользователю.\n",
    "\n",
    "**Отрицательные**\n",
    "- Модель не учитывает вероятности или степень выраженности симптомов.\n",
    "- При значительном увеличении числа заболеваний граф может стать громоздким и требовать оптимизации структуры.\n",
    "- Логика диагностики остается строго детерминированной и не адаптируется автоматически к новым данным."
   ]
  },
  {
   "cell_type": "markdown",
   "id": "113263104c4572f8",
   "metadata": {},
   "source": [
    "## Источники офтальмологических данных и обоснование их достоверности"
   ]
  },
  {
   "cell_type": "markdown",
   "id": "d8e811fb58c0547f",
   "metadata": {},
   "source": [
    "### Научные журналы и академические публикации"
   ]
  },
  {
   "cell_type": "markdown",
   "id": "5203736d409d28ff",
   "metadata": {},
   "source": [
    "**Основные издания:**\n",
    "- «Вестник офтальмологии» — НМИЦ глазных болезней им. Гельмгольца\n",
    "- «Офтальмология» — Российское общество офтальмологов\n",
    "- «Офтальмохирургия» — МНТК им. акад. С.Н. Фёдорова\n",
    "- «Российская детская офтальмология»\n",
    "\n",
    "**Обоснование достоверности:**\n",
    "Все указанные журналы входят в перечень ВАК РФ и индексируются в РИНЦ и PubMed.\n",
    "Каждая публикация проходит двойное слепое рецензирование, экспертную оценку методики и проверку достоверности статистических данных.\n",
    "Использование этих источников гарантирует, что алгоритмы и диагностические подходы в системе основаны на результатах, признанных научным сообществом."
   ]
  },
  {
   "cell_type": "markdown",
   "id": "96acb020fa08ba61",
   "metadata": {},
   "source": [
    "### Федеральные клинические рекомендации и нормативные документы"
   ]
  },
  {
   "cell_type": "markdown",
   "id": "288c61a04cb2aae5",
   "metadata": {},
   "source": [
    "**Источники:**\n",
    "- Минздрав РФ, Национальный медицинский исследовательский центр глазных болезней им. Гельмгольца\n",
    "- МНТК «Микрохирургия глаза» им. С.Н. Фёдорова\n",
    "\n",
    "**Обоснование достоверности:**\n",
    "Клинические рекомендации формируются на основе систематических обзоров мировой литературы (500+ источников), проходят этап экспертного консенсуса (Delphi-метод) и утверждаются профильной комиссией Минздрава РФ.\n",
    "Каждая рекомендация имеет уровень доказательности (A, B, C) согласно международной системе GRADE."
   ]
  },
  {
   "cell_type": "markdown",
   "id": "a2900ccc04e1debd",
   "metadata": {},
   "source": [
    "### Нормативные базы диагностического оборудования"
   ]
  },
  {
   "cell_type": "markdown",
   "id": "3916cd411fa20d0f",
   "metadata": {},
   "source": [
    "**Примеры:**\n",
    "- **Cirrus HD-OCT (Carl Zeiss Meditec)** — база данных более 15 000 здоровых пациентов\n",
    "- **Heidelberg Spectralis (Heidelberg Engineering)** — нормативы структур зрительного нерва и сетчатки\n",
    "- **RTvue XR Avanti (Optovue)** — эталонные показатели толщины сетчатки по возрастным и этническим группам\n",
    "\n",
    "**Обоснование достоверности:**\n",
    "Нормативные базы формируются производителями оборудования на основании обследования больших выборок здоровых людей с учётом пола, возраста и этнических различий.\n",
    "Данные собираются по единым международным протоколам и обновляются по мере расширения статистики, что обеспечивает объективность сравнения параметров пациента с нормой."
   ]
  },
  {
   "cell_type": "markdown",
   "id": "314dee57b4683deb",
   "metadata": {},
   "source": [
    "### Международные базы данных и стандарты"
   ]
  },
  {
   "cell_type": "markdown",
   "id": "f046e8abb99d52d4",
   "metadata": {},
   "source": [
    "**Основные источники:**\n",
    "- *American Academy of Ophthalmology (AAO)* — клинические протоколы и стандарты диагностики (Preferred Practice Patterns).\n",
    "- *European Society of Cataract and Refractive Surgeons (ESCRS)* — руководства по хирургическому и медикаментозному лечению заболеваний глаза.\n",
    "- *Cochrane Library* — систематические обзоры и мета-анализы офтальмологических исследований с оценкой уровня доказательности.\n",
    "- *ClinicalTrials.gov* — реестр международных клинических испытаний по глаукоме, катаракте, макулодистрофии и другим заболеваниям глаза.\n",
    "\n",
    "**Обоснование достоверности:**\n",
    "Международные базы данных обеспечивают доступ к результатам клинических исследований, выполненных по единым протоколам GCP (Good Clinical Practice).\n",
    "Все представленные материалы проходят предварительную научную экспертизу, статистическую проверку и этическое одобрение.\n",
    "Каждая публикация и исследование снабжены указанием уровня доказательности (Evidence Level I–III), что позволяет объективно оценивать качество и применимость данных."
   ]
  },
  {
   "cell_type": "markdown",
   "id": "27ba9e3d9da4d001",
   "metadata": {},
   "source": [
    "## Визуализация базы знаний"
   ]
  },
  {
   "cell_type": "code",
   "execution_count": 2,
   "id": "783f24aea994845e",
   "metadata": {
    "ExecuteTime": {
     "end_time": "2025-10-04T07:57:17.010090Z",
     "start_time": "2025-10-04T07:57:06.958285Z"
    }
   },
   "outputs": [
    {
     "name": "stdout",
     "output_type": "stream",
     "text": [
      "Collecting neo4j\r\n",
      "  Downloading neo4j-6.0.2-py3-none-any.whl.metadata (5.2 kB)\r\n",
      "Collecting networkx\r\n",
      "  Using cached networkx-3.4.2-py3-none-any.whl.metadata (6.3 kB)\r\n",
      "Collecting matplotlib\r\n",
      "  Using cached matplotlib-3.10.6-cp310-cp310-manylinux2014_x86_64.manylinux_2_17_x86_64.whl.metadata (11 kB)\r\n",
      "Collecting pytz (from neo4j)\r\n",
      "  Using cached pytz-2025.2-py2.py3-none-any.whl.metadata (22 kB)\r\n",
      "Collecting contourpy>=1.0.1 (from matplotlib)\r\n",
      "  Using cached contourpy-1.3.2-cp310-cp310-manylinux_2_17_x86_64.manylinux2014_x86_64.whl.metadata (5.5 kB)\r\n",
      "Collecting cycler>=0.10 (from matplotlib)\r\n",
      "  Using cached cycler-0.12.1-py3-none-any.whl.metadata (3.8 kB)\r\n",
      "Collecting fonttools>=4.22.0 (from matplotlib)\r\n",
      "  Downloading fonttools-4.60.1-cp310-cp310-manylinux2014_x86_64.manylinux_2_17_x86_64.whl.metadata (112 kB)\r\n",
      "Collecting kiwisolver>=1.3.1 (from matplotlib)\r\n",
      "  Using cached kiwisolver-1.4.9-cp310-cp310-manylinux_2_12_x86_64.manylinux2010_x86_64.whl.metadata (6.3 kB)\r\n",
      "Collecting numpy>=1.23 (from matplotlib)\r\n",
      "  Using cached numpy-2.2.6-cp310-cp310-manylinux_2_17_x86_64.manylinux2014_x86_64.whl.metadata (62 kB)\r\n",
      "Requirement already satisfied: packaging>=20.0 in /home/anton/PycharmProjects/expert-system-for-diagnosing-ophthalmological-diseases/.venv/lib/python3.10/site-packages (from matplotlib) (25.0)\r\n",
      "Collecting pillow>=8 (from matplotlib)\r\n",
      "  Using cached pillow-11.3.0-cp310-cp310-manylinux_2_27_x86_64.manylinux_2_28_x86_64.whl.metadata (9.0 kB)\r\n",
      "Collecting pyparsing>=2.3.1 (from matplotlib)\r\n",
      "  Downloading pyparsing-3.2.5-py3-none-any.whl.metadata (5.0 kB)\r\n",
      "Requirement already satisfied: python-dateutil>=2.7 in /home/anton/PycharmProjects/expert-system-for-diagnosing-ophthalmological-diseases/.venv/lib/python3.10/site-packages (from matplotlib) (2.9.0.post0)\r\n",
      "Requirement already satisfied: six>=1.5 in /home/anton/PycharmProjects/expert-system-for-diagnosing-ophthalmological-diseases/.venv/lib/python3.10/site-packages (from python-dateutil>=2.7->matplotlib) (1.17.0)\r\n",
      "Downloading neo4j-6.0.2-py3-none-any.whl (325 kB)\r\n",
      "Using cached networkx-3.4.2-py3-none-any.whl (1.7 MB)\r\n",
      "Using cached matplotlib-3.10.6-cp310-cp310-manylinux2014_x86_64.manylinux_2_17_x86_64.whl (8.7 MB)\r\n",
      "Using cached contourpy-1.3.2-cp310-cp310-manylinux_2_17_x86_64.manylinux2014_x86_64.whl (325 kB)\r\n",
      "Using cached cycler-0.12.1-py3-none-any.whl (8.3 kB)\r\n",
      "Downloading fonttools-4.60.1-cp310-cp310-manylinux2014_x86_64.manylinux_2_17_x86_64.whl (4.8 MB)\r\n",
      "\u001B[2K   \u001B[90m━━━━━━━━━━━━━━━━━━━━━━━━━━━━━━━━━━━━━━━━\u001B[0m \u001B[32m4.8/4.8 MB\u001B[0m \u001B[31m3.1 MB/s\u001B[0m eta \u001B[36m0:00:00\u001B[0ma \u001B[36m0:00:01\u001B[0m\r\n",
      "\u001B[?25hUsing cached kiwisolver-1.4.9-cp310-cp310-manylinux_2_12_x86_64.manylinux2010_x86_64.whl (1.6 MB)\r\n",
      "Using cached numpy-2.2.6-cp310-cp310-manylinux_2_17_x86_64.manylinux2014_x86_64.whl (16.8 MB)\r\n",
      "Using cached pillow-11.3.0-cp310-cp310-manylinux_2_27_x86_64.manylinux_2_28_x86_64.whl (6.6 MB)\r\n",
      "Downloading pyparsing-3.2.5-py3-none-any.whl (113 kB)\r\n",
      "Using cached pytz-2025.2-py2.py3-none-any.whl (509 kB)\r\n",
      "Installing collected packages: pytz, pyparsing, pillow, numpy, networkx, neo4j, kiwisolver, fonttools, cycler, contourpy, matplotlib\r\n",
      "Successfully installed contourpy-1.3.2 cycler-0.12.1 fonttools-4.60.1 kiwisolver-1.4.9 matplotlib-3.10.6 neo4j-6.0.2 networkx-3.4.2 numpy-2.2.6 pillow-11.3.0 pyparsing-3.2.5 pytz-2025.2\r\n",
      "\r\n",
      "\u001B[1m[\u001B[0m\u001B[34;49mnotice\u001B[0m\u001B[1;39;49m]\u001B[0m\u001B[39;49m A new release of pip is available: \u001B[0m\u001B[31;49m24.3.1\u001B[0m\u001B[39;49m -> \u001B[0m\u001B[32;49m25.2\u001B[0m\r\n",
      "\u001B[1m[\u001B[0m\u001B[34;49mnotice\u001B[0m\u001B[1;39;49m]\u001B[0m\u001B[39;49m To update, run: \u001B[0m\u001B[32;49mpip install --upgrade pip\u001B[0m\r\n"
     ]
    }
   ],
   "source": [
    "!pip install neo4j networkx matplotlib"
   ]
  },
  {
   "cell_type": "code",
   "execution_count": 3,
   "id": "a393934b1376476d",
   "metadata": {
    "ExecuteTime": {
     "end_time": "2025-10-04T07:57:20.186677Z",
     "start_time": "2025-10-04T07:57:19.725971Z"
    }
   },
   "outputs": [],
   "source": [
    "from neo4j import GraphDatabase\n",
    "import networkx as nx\n",
    "import matplotlib.pyplot as plt\n",
    "import os"
   ]
  },
  {
   "cell_type": "code",
   "execution_count": 4,
   "id": "1419ff903ab33791",
   "metadata": {
    "ExecuteTime": {
     "end_time": "2025-10-04T07:57:23.065678Z",
     "start_time": "2025-10-04T07:57:23.063306Z"
    }
   },
   "outputs": [],
   "source": [
    "NEO4J_URI = os.environ.get(\"NEO4J_URI\", \"bolt://localhost:7687\")\n",
    "NEO4J_USER = os.environ.get(\"NEO4J_USER\", \"neo4j\")\n",
    "NEO4J_PASSWORD = os.environ.get(\"NEO4J_PASSWORD\", \"neo4j\")"
   ]
  },
  {
   "cell_type": "code",
   "id": "55d6202eb57921ab",
   "metadata": {
    "ExecuteTime": {
     "end_time": "2025-10-04T08:03:15.462660Z",
     "start_time": "2025-10-04T08:03:15.460631Z"
    }
   },
   "source": [
    "driver = GraphDatabase.driver(NEO4J_URI, auth=(NEO4J_USER, NEO4J_PASSWORD))"
   ],
   "outputs": [],
   "execution_count": 7
  },
  {
   "cell_type": "code",
   "id": "d651c7f2e559c44a",
   "metadata": {
    "ExecuteTime": {
     "end_time": "2025-10-04T08:03:17.561808Z",
     "start_time": "2025-10-04T08:03:17.284290Z"
    }
   },
   "source": [
    "G = nx.DiGraph()\n",
    "\n",
    "with driver.session() as session:\n",
    "    # Получаем все узлы\n",
    "    nodes_result = session.run(\"MATCH (n) RETURN n\")\n",
    "    for record in nodes_result:\n",
    "        node = record[\"n\"]\n",
    "        node_id = node.id\n",
    "        if \"Question\" in node.labels:\n",
    "            label = node[\"text\"]\n",
    "            G.add_node(node_id, label=label, type='Question')\n",
    "        else:\n",
    "            label = node[\"name\"]\n",
    "            G.add_node(node_id, label=label, type='Disease')\n",
    "\n",
    "    # Получаем все рёбра (ДА/НЕТ)\n",
    "    edges_result = session.run(\"MATCH (a)-[r]->(b) RETURN a, b, r\")\n",
    "    for record in edges_result:\n",
    "        source = record[\"a\"].id\n",
    "        target = record[\"b\"].id\n",
    "        # Если есть property \"answer\", используем его, иначе берем type\n",
    "        label = record[\"r\"].get(\"answer\", record[\"r\"].type)\n",
    "        G.add_edge(source, target, label=label)"
   ],
   "outputs": [
    {
     "ename": "ClientError",
     "evalue": "{neo4j_code: Neo.ClientError.Security.CredentialsExpired} {message: ACCESS on database 'neo4j' is not allowed.\n\nThe credentials you provided were valid, but must be changed before you can use this instance. If this is the first time you are using Neo4j, this is to ensure you are not using the default credentials in production. If you are not using default credentials, you are getting this message because an administrator requires a password change.\nTo change your password, issue an `ALTER CURRENT USER SET PASSWORD FROM 'current password' TO 'new password'` statement against the system database.} {gql_status: 42NFF} {gql_status_description: error: syntax error or access rule violation - permission/access denied. Access denied, see the security logs for details.}",
     "output_type": "error",
     "traceback": [
      "\u001B[0;31m---------------------------------------------------------------------------\u001B[0m",
      "\u001B[0;31mGqlError\u001B[0m                                  Traceback (most recent call last)",
      "\u001B[0;31mGqlError\u001B[0m: {gql_status: 42NFD} {gql_status_description: error: syntax error or access rule violation - credentials expired. Permission denied. The credentials you provided were valid, but must be changed before you can use this instance.} {message: 42NFD: Permission denied. The credentials you provided were valid, but must be changed before you can use this instance.} {diagnostic_record: {'_classification': 'CLIENT_ERROR', 'OPERATION': '', 'OPERATION_CODE': '0', 'CURRENT_SCHEMA': '/'}} {raw_classification: CLIENT_ERROR}",
      "\nThe above exception was the direct cause of the following exception:\n",
      "\u001B[0;31mClientError\u001B[0m                               Traceback (most recent call last)",
      "Cell \u001B[0;32mIn[8], line 5\u001B[0m\n\u001B[1;32m      1\u001B[0m G \u001B[38;5;241m=\u001B[39m nx\u001B[38;5;241m.\u001B[39mDiGraph()\n\u001B[1;32m      3\u001B[0m \u001B[38;5;28;01mwith\u001B[39;00m driver\u001B[38;5;241m.\u001B[39msession() \u001B[38;5;28;01mas\u001B[39;00m session:\n\u001B[1;32m      4\u001B[0m     \u001B[38;5;66;03m# Получаем все узлы\u001B[39;00m\n\u001B[0;32m----> 5\u001B[0m     nodes_result \u001B[38;5;241m=\u001B[39m \u001B[43msession\u001B[49m\u001B[38;5;241;43m.\u001B[39;49m\u001B[43mrun\u001B[49m\u001B[43m(\u001B[49m\u001B[38;5;124;43m\"\u001B[39;49m\u001B[38;5;124;43mMATCH (n) RETURN n\u001B[39;49m\u001B[38;5;124;43m\"\u001B[39;49m\u001B[43m)\u001B[49m\n\u001B[1;32m      6\u001B[0m     \u001B[38;5;28;01mfor\u001B[39;00m record \u001B[38;5;129;01min\u001B[39;00m nodes_result:\n\u001B[1;32m      7\u001B[0m         node \u001B[38;5;241m=\u001B[39m record[\u001B[38;5;124m\"\u001B[39m\u001B[38;5;124mn\u001B[39m\u001B[38;5;124m\"\u001B[39m]\n",
      "File \u001B[0;32m~/PycharmProjects/expert-system-for-diagnosing-ophthalmological-diseases/.venv/lib/python3.10/site-packages/neo4j/_sync/work/session.py:320\u001B[0m, in \u001B[0;36mSession.run\u001B[0;34m(self, query, parameters, **kwargs)\u001B[0m\n\u001B[1;32m    318\u001B[0m bookmarks \u001B[38;5;241m=\u001B[39m \u001B[38;5;28mself\u001B[39m\u001B[38;5;241m.\u001B[39m_get_bookmarks()\n\u001B[1;32m    319\u001B[0m parameters \u001B[38;5;241m=\u001B[39m \u001B[38;5;28mdict\u001B[39m(parameters \u001B[38;5;129;01mor\u001B[39;00m {}, \u001B[38;5;241m*\u001B[39m\u001B[38;5;241m*\u001B[39mkwargs)\n\u001B[0;32m--> 320\u001B[0m \u001B[38;5;28;43mself\u001B[39;49m\u001B[38;5;241;43m.\u001B[39;49m\u001B[43m_auto_result\u001B[49m\u001B[38;5;241;43m.\u001B[39;49m\u001B[43m_run\u001B[49m\u001B[43m(\u001B[49m\n\u001B[1;32m    321\u001B[0m \u001B[43m    \u001B[49m\u001B[43mquery\u001B[49m\u001B[43m,\u001B[49m\n\u001B[1;32m    322\u001B[0m \u001B[43m    \u001B[49m\u001B[43mparameters\u001B[49m\u001B[43m,\u001B[49m\n\u001B[1;32m    323\u001B[0m \u001B[43m    \u001B[49m\u001B[38;5;28;43mself\u001B[39;49m\u001B[38;5;241;43m.\u001B[39;49m\u001B[43m_config\u001B[49m\u001B[38;5;241;43m.\u001B[39;49m\u001B[43mdatabase\u001B[49m\u001B[43m,\u001B[49m\n\u001B[1;32m    324\u001B[0m \u001B[43m    \u001B[49m\u001B[38;5;28;43mself\u001B[39;49m\u001B[38;5;241;43m.\u001B[39;49m\u001B[43m_config\u001B[49m\u001B[38;5;241;43m.\u001B[39;49m\u001B[43mimpersonated_user\u001B[49m\u001B[43m,\u001B[49m\n\u001B[1;32m    325\u001B[0m \u001B[43m    \u001B[49m\u001B[38;5;28;43mself\u001B[39;49m\u001B[38;5;241;43m.\u001B[39;49m\u001B[43m_config\u001B[49m\u001B[38;5;241;43m.\u001B[39;49m\u001B[43mdefault_access_mode\u001B[49m\u001B[43m,\u001B[49m\n\u001B[1;32m    326\u001B[0m \u001B[43m    \u001B[49m\u001B[43mbookmarks\u001B[49m\u001B[43m,\u001B[49m\n\u001B[1;32m    327\u001B[0m \u001B[43m    \u001B[49m\u001B[38;5;28;43mself\u001B[39;49m\u001B[38;5;241;43m.\u001B[39;49m\u001B[43m_config\u001B[49m\u001B[38;5;241;43m.\u001B[39;49m\u001B[43mnotifications_min_severity\u001B[49m\u001B[43m,\u001B[49m\n\u001B[1;32m    328\u001B[0m \u001B[43m    \u001B[49m\u001B[38;5;28;43mself\u001B[39;49m\u001B[38;5;241;43m.\u001B[39;49m\u001B[43m_config\u001B[49m\u001B[38;5;241;43m.\u001B[39;49m\u001B[43mnotifications_disabled_classifications\u001B[49m\u001B[43m,\u001B[49m\n\u001B[1;32m    329\u001B[0m \u001B[43m\u001B[49m\u001B[43m)\u001B[49m\n\u001B[1;32m    331\u001B[0m \u001B[38;5;28;01mreturn\u001B[39;00m \u001B[38;5;28mself\u001B[39m\u001B[38;5;241m.\u001B[39m_auto_result\n",
      "File \u001B[0;32m~/PycharmProjects/expert-system-for-diagnosing-ophthalmological-diseases/.venv/lib/python3.10/site-packages/neo4j/_sync/work/result.py:237\u001B[0m, in \u001B[0;36mResult._run\u001B[0;34m(self, query, parameters, db, imp_user, access_mode, bookmarks, notifications_min_severity, notifications_disabled_classifications)\u001B[0m\n\u001B[1;32m    235\u001B[0m \u001B[38;5;28mself\u001B[39m\u001B[38;5;241m.\u001B[39m_pull()\n\u001B[1;32m    236\u001B[0m \u001B[38;5;28mself\u001B[39m\u001B[38;5;241m.\u001B[39m_connection\u001B[38;5;241m.\u001B[39msend_all()\n\u001B[0;32m--> 237\u001B[0m \u001B[38;5;28;43mself\u001B[39;49m\u001B[38;5;241;43m.\u001B[39;49m\u001B[43m_attach\u001B[49m\u001B[43m(\u001B[49m\u001B[43m)\u001B[49m\n",
      "File \u001B[0;32m~/PycharmProjects/expert-system-for-diagnosing-ophthalmological-diseases/.venv/lib/python3.10/site-packages/neo4j/_sync/work/result.py:439\u001B[0m, in \u001B[0;36mResult._attach\u001B[0;34m(self)\u001B[0m\n\u001B[1;32m    437\u001B[0m \u001B[38;5;28;01mif\u001B[39;00m \u001B[38;5;28mself\u001B[39m\u001B[38;5;241m.\u001B[39m_exhausted \u001B[38;5;129;01mis\u001B[39;00m \u001B[38;5;28;01mFalse\u001B[39;00m:\n\u001B[1;32m    438\u001B[0m     \u001B[38;5;28;01mwhile\u001B[39;00m \u001B[38;5;28mself\u001B[39m\u001B[38;5;241m.\u001B[39m_attached \u001B[38;5;129;01mis\u001B[39;00m \u001B[38;5;28;01mFalse\u001B[39;00m:\n\u001B[0;32m--> 439\u001B[0m         \u001B[38;5;28;43mself\u001B[39;49m\u001B[38;5;241;43m.\u001B[39;49m\u001B[43m_connection\u001B[49m\u001B[38;5;241;43m.\u001B[39;49m\u001B[43mfetch_message\u001B[49m\u001B[43m(\u001B[49m\u001B[43m)\u001B[49m\n",
      "File \u001B[0;32m~/PycharmProjects/expert-system-for-diagnosing-ophthalmological-diseases/.venv/lib/python3.10/site-packages/neo4j/_sync/io/_common.py:192\u001B[0m, in \u001B[0;36mConnectionErrorHandler.__getattr__.<locals>.outer.<locals>.inner\u001B[0;34m(*args, **kwargs)\u001B[0m\n\u001B[1;32m    190\u001B[0m \u001B[38;5;28;01mdef\u001B[39;00m\u001B[38;5;250m \u001B[39m\u001B[38;5;21minner\u001B[39m(\u001B[38;5;241m*\u001B[39margs, \u001B[38;5;241m*\u001B[39m\u001B[38;5;241m*\u001B[39mkwargs):\n\u001B[1;32m    191\u001B[0m     \u001B[38;5;28;01mtry\u001B[39;00m:\n\u001B[0;32m--> 192\u001B[0m         \u001B[43mfunc\u001B[49m\u001B[43m(\u001B[49m\u001B[38;5;241;43m*\u001B[39;49m\u001B[43margs\u001B[49m\u001B[43m,\u001B[49m\u001B[43m \u001B[49m\u001B[38;5;241;43m*\u001B[39;49m\u001B[38;5;241;43m*\u001B[39;49m\u001B[43mkwargs\u001B[49m\u001B[43m)\u001B[49m\n\u001B[1;32m    193\u001B[0m     \u001B[38;5;28;01mexcept\u001B[39;00m (Neo4jError, ServiceUnavailable, SessionExpired) \u001B[38;5;28;01mas\u001B[39;00m exc:\n\u001B[1;32m    194\u001B[0m         \u001B[38;5;28;01massert\u001B[39;00m \u001B[38;5;129;01mnot\u001B[39;00m asyncio\u001B[38;5;241m.\u001B[39miscoroutinefunction(\u001B[38;5;28mself\u001B[39m\u001B[38;5;241m.\u001B[39m__on_error)\n",
      "File \u001B[0;32m~/PycharmProjects/expert-system-for-diagnosing-ophthalmological-diseases/.venv/lib/python3.10/site-packages/neo4j/_sync/io/_bolt.py:866\u001B[0m, in \u001B[0;36mBolt.fetch_message\u001B[0;34m(self)\u001B[0m\n\u001B[1;32m    862\u001B[0m \u001B[38;5;66;03m# Receive exactly one message\u001B[39;00m\n\u001B[1;32m    863\u001B[0m tag, fields \u001B[38;5;241m=\u001B[39m \u001B[38;5;28mself\u001B[39m\u001B[38;5;241m.\u001B[39minbox\u001B[38;5;241m.\u001B[39mpop(\n\u001B[1;32m    864\u001B[0m     hydration_hooks\u001B[38;5;241m=\u001B[39m\u001B[38;5;28mself\u001B[39m\u001B[38;5;241m.\u001B[39mresponses[\u001B[38;5;241m0\u001B[39m]\u001B[38;5;241m.\u001B[39mhydration_hooks\n\u001B[1;32m    865\u001B[0m )\n\u001B[0;32m--> 866\u001B[0m res \u001B[38;5;241m=\u001B[39m \u001B[38;5;28;43mself\u001B[39;49m\u001B[38;5;241;43m.\u001B[39;49m\u001B[43m_process_message\u001B[49m\u001B[43m(\u001B[49m\u001B[43mtag\u001B[49m\u001B[43m,\u001B[49m\u001B[43m \u001B[49m\u001B[43mfields\u001B[49m\u001B[43m)\u001B[49m\n\u001B[1;32m    867\u001B[0m \u001B[38;5;28mself\u001B[39m\u001B[38;5;241m.\u001B[39midle_since \u001B[38;5;241m=\u001B[39m monotonic()\n\u001B[1;32m    868\u001B[0m \u001B[38;5;28;01mreturn\u001B[39;00m res\n",
      "File \u001B[0;32m~/PycharmProjects/expert-system-for-diagnosing-ophthalmological-diseases/.venv/lib/python3.10/site-packages/neo4j/_sync/io/_bolt5.py:1202\u001B[0m, in \u001B[0;36mBolt5x7._process_message\u001B[0;34m(self, tag, fields)\u001B[0m\n\u001B[1;32m   1200\u001B[0m \u001B[38;5;28mself\u001B[39m\u001B[38;5;241m.\u001B[39m_enrich_error_diagnostic_record(summary_metadata)\n\u001B[1;32m   1201\u001B[0m \u001B[38;5;28;01mtry\u001B[39;00m:\n\u001B[0;32m-> 1202\u001B[0m     \u001B[43mresponse\u001B[49m\u001B[38;5;241;43m.\u001B[39;49m\u001B[43mon_failure\u001B[49m\u001B[43m(\u001B[49m\u001B[43msummary_metadata\u001B[49m\u001B[43m \u001B[49m\u001B[38;5;129;43;01mor\u001B[39;49;00m\u001B[43m \u001B[49m\u001B[43m{\u001B[49m\u001B[43m}\u001B[49m\u001B[43m)\u001B[49m\n\u001B[1;32m   1203\u001B[0m \u001B[38;5;28;01mexcept\u001B[39;00m (ServiceUnavailable, DatabaseUnavailable):\n\u001B[1;32m   1204\u001B[0m     \u001B[38;5;28;01mif\u001B[39;00m \u001B[38;5;28mself\u001B[39m\u001B[38;5;241m.\u001B[39mpool:\n",
      "File \u001B[0;32m~/PycharmProjects/expert-system-for-diagnosing-ophthalmological-diseases/.venv/lib/python3.10/site-packages/neo4j/_sync/io/_common.py:262\u001B[0m, in \u001B[0;36mResponse.on_failure\u001B[0;34m(self, metadata)\u001B[0m\n\u001B[1;32m    260\u001B[0m handler \u001B[38;5;241m=\u001B[39m \u001B[38;5;28mself\u001B[39m\u001B[38;5;241m.\u001B[39mhandlers\u001B[38;5;241m.\u001B[39mget(\u001B[38;5;124m\"\u001B[39m\u001B[38;5;124mon_summary\u001B[39m\u001B[38;5;124m\"\u001B[39m)\n\u001B[1;32m    261\u001B[0m Util\u001B[38;5;241m.\u001B[39mcallback(handler)\n\u001B[0;32m--> 262\u001B[0m \u001B[38;5;28;01mraise\u001B[39;00m \u001B[38;5;28mself\u001B[39m\u001B[38;5;241m.\u001B[39m_hydrate_error(metadata)\n",
      "\u001B[0;31mClientError\u001B[0m: {neo4j_code: Neo.ClientError.Security.CredentialsExpired} {message: ACCESS on database 'neo4j' is not allowed.\n\nThe credentials you provided were valid, but must be changed before you can use this instance. If this is the first time you are using Neo4j, this is to ensure you are not using the default credentials in production. If you are not using default credentials, you are getting this message because an administrator requires a password change.\nTo change your password, issue an `ALTER CURRENT USER SET PASSWORD FROM 'current password' TO 'new password'` statement against the system database.} {gql_status: 42NFF} {gql_status_description: error: syntax error or access rule violation - permission/access denied. Access denied, see the security logs for details.}"
     ]
    }
   ],
   "execution_count": 8
  },
  {
   "cell_type": "code",
   "execution_count": null,
   "id": "cb5566a0092b0263",
   "metadata": {},
   "outputs": [],
   "source": [
    "driver.close()"
   ]
  },
  {
   "cell_type": "code",
   "execution_count": null,
   "id": "2701f0554ff1d00f",
   "metadata": {},
   "outputs": [],
   "source": [
    "pos = nx.graphviz_layout(G, seed=42)"
   ]
  },
  {
   "cell_type": "code",
   "execution_count": null,
   "id": "b2a43bb6b8cdb859",
   "metadata": {},
   "outputs": [],
   "source": [
    "plt.figure(figsize=(12, 8))"
   ]
  },
  {
   "cell_type": "code",
   "execution_count": null,
   "id": "a60cf7af29056e14",
   "metadata": {},
   "outputs": [],
   "source": [
    "question_nodes = [n for n, attr in G.nodes(data=True) if attr['type']=='Question']\n",
    "disease_nodes = [n for n, attr in G.nodes(data=True) if attr['type']=='Disease']"
   ]
  },
  {
   "cell_type": "code",
   "execution_count": null,
   "id": "becaa60b9665eab6",
   "metadata": {},
   "outputs": [],
   "source": [
    "nx.draw_networkx_nodes(G, pos, nodelist=question_nodes, node_color='lightblue', node_size=1200)\n",
    "nx.draw_networkx_nodes(G, pos, nodelist=disease_nodes, node_color='lightgreen', node_size=1200)"
   ]
  },
  {
   "cell_type": "code",
   "execution_count": null,
   "id": "e1a1de0d8bb87258",
   "metadata": {},
   "outputs": [],
   "source": [
    "nx.draw_networkx_edges(G, pos, arrowstyle='-|>', arrowsize=20)"
   ]
  },
  {
   "cell_type": "code",
   "execution_count": null,
   "id": "5a7e8327b756bb2b",
   "metadata": {},
   "outputs": [],
   "source": [
    "labels = {n: attr['label'] for n, attr in G.nodes(data=True)}\n",
    "nx.draw_networkx_labels(G, pos, labels, font_size=10)"
   ]
  },
  {
   "cell_type": "code",
   "execution_count": null,
   "id": "d9c1ff96ffcf133e",
   "metadata": {},
   "outputs": [],
   "source": [
    "edge_labels = {(u, v): d['label'] for u, v, d in G.edges(data=True)}\n",
    "nx.draw_networkx_edge_labels(G, pos, edge_labels=edge_labels, font_color='red', font_size=10)"
   ]
  },
  {
   "cell_type": "code",
   "execution_count": null,
   "id": "ac1a1dfe632f2129",
   "metadata": {},
   "outputs": [],
   "source": [
    "plt.axis('off')\n",
    "plt.show()"
   ]
  }
 ],
 "metadata": {
  "kernelspec": {
   "display_name": "Python 3 (ipykernel)",
   "language": "python",
   "name": "python3"
  },
  "language_info": {
   "codemirror_mode": {
    "name": "ipython",
    "version": 3
   },
   "file_extension": ".py",
   "mimetype": "text/x-python",
   "name": "python",
   "nbconvert_exporter": "python",
   "pygments_lexer": "ipython3",
   "version": "3.10.12"
  }
 },
 "nbformat": 4,
 "nbformat_minor": 5
}
